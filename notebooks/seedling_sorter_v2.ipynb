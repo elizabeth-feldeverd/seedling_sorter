{
  "nbformat": 4,
  "nbformat_minor": 0,
  "metadata": {
    "colab": {
      "name": "seedling_sorter_v2",
      "provenance": [],
      "collapsed_sections": []
    },
    "kernelspec": {
      "name": "python3",
      "display_name": "Python 3"
    },
    "language_info": {
      "name": "python"
    },
    "accelerator": "GPU"
  },
  "cells": [
    {
      "cell_type": "code",
      "metadata": {
        "colab": {
          "base_uri": "https://localhost:8080/"
        },
        "id": "WubWNvJFGcaP",
        "outputId": "028ca3d6-2926-4b34-8511-5b3db9945f55"
      },
      "source": [
        "from google.colab import drive\n",
        "drive.mount('/content/drive')"
      ],
      "execution_count": 1,
      "outputs": [
        {
          "output_type": "stream",
          "name": "stdout",
          "text": [
            "Mounted at /content/drive\n"
          ]
        }
      ]
    },
    {
      "cell_type": "code",
      "source": [
        "# Only need to run once\n",
        "# pip install split-folders tqdm\n",
        "# import splitfolders"
      ],
      "metadata": {
        "colab": {
          "base_uri": "https://localhost:8080/"
        },
        "id": "v__lwJtoBAjd",
        "outputId": "80b3a20f-6f6a-41c4-e427-5ccd5be5bdc0"
      },
      "execution_count": null,
      "outputs": [
        {
          "output_type": "stream",
          "name": "stdout",
          "text": [
            "Collecting split-folders\n",
            "  Downloading split_folders-0.4.3-py3-none-any.whl (7.4 kB)\n",
            "Requirement already satisfied: tqdm in /usr/local/lib/python3.7/dist-packages (4.62.3)\n",
            "Installing collected packages: split-folders\n",
            "Successfully installed split-folders-0.4.3\n"
          ]
        }
      ]
    },
    {
      "cell_type": "code",
      "metadata": {
        "id": "oWpgoha_GOEw"
      },
      "source": [
        "import numpy as np\n",
        "import pandas as pd\n",
        "import matplotlib.pyplot as plt\n",
        "from PIL import Image\n",
        "from pathlib import Path\n",
        "import os\n",
        "\n",
        "from tensorflow.keras.applications import MobileNetV2, mobilenet_v2\n",
        "from tensorflow.keras.optimizers import Adam\n",
        "from tensorflow.keras import Input, Sequential, layers, models, Model, losses\n",
        "from tensorflow.keras.callbacks import ModelCheckpoint\n",
        "from keras.wrappers.scikit_learn import KerasClassifier\n",
        "from keras.models import load_model\n",
        "from keras.preprocessing.image import image_dataset_from_directory"
      ],
      "execution_count": 4,
      "outputs": []
    },
    {
      "cell_type": "markdown",
      "source": [
        "Load and preprocess images"
      ],
      "metadata": {
        "id": "yF8cOM5EtCV-"
      }
    },
    {
      "cell_type": "code",
      "source": [
        "# Only need to run once\n",
        "# pip install split-folders tqdm\n",
        "# import splitfolders\n",
        "# Split folders into train-validation-test. Only need to run once.\n",
        "# splitfolders.ratio(\"/content/drive/MyDrive/Colab Notebooks/test_images\", \n",
        "#                    output=\"/content/drive/MyDrive/Colab Notebooks/split_images\", \n",
        "#                    seed=1, ratio=(.6, .2, .2), group_prefix=None)"
      ],
      "metadata": {
        "colab": {
          "base_uri": "https://localhost:8080/"
        },
        "id": "LAZvMp1ktGka",
        "outputId": "69bd3e7e-407f-4d41-a7e6-616d55fee80e"
      },
      "execution_count": null,
      "outputs": [
        {
          "output_type": "stream",
          "name": "stderr",
          "text": [
            "Copying files: 5539 files [02:55, 31.54 files/s]\n"
          ]
        }
      ]
    },
    {
      "cell_type": "code",
      "source": [
        "batch_size = 32\n",
        "img_height = 128\n",
        "img_width = 128"
      ],
      "metadata": {
        "id": "CCQ0EbHwmgLh"
      },
      "execution_count": 5,
      "outputs": []
    },
    {
      "cell_type": "code",
      "source": [
        "# Rather than load the entire 5000+ image dataset, we'll use tf.data.Dataset to generate training and validation sets\n",
        "train_dir = '/content/drive/MyDrive/Colab Notebooks/split_images/train'\n",
        "val_dir = '/content/drive/MyDrive/Colab Notebooks/split_images/val'\n",
        "\n",
        "train_ds = image_dataset_from_directory(\n",
        "  train_dir,\n",
        "  seed=3,\n",
        "  image_size=(img_height, img_width),\n",
        "  batch_size=batch_size,\n",
        "  label_mode='categorical',\n",
        "  crop_to_aspect_ratio=True)\n",
        "\n",
        "val_ds = image_dataset_from_directory(\n",
        "  val_dir,\n",
        "  seed=3,\n",
        "  image_size=(img_height, img_width),\n",
        "  batch_size=batch_size,\n",
        "  label_mode='categorical',\n",
        "  crop_to_aspect_ratio=True)"
      ],
      "metadata": {
        "id": "Nl4EXWzXkK4j",
        "colab": {
          "base_uri": "https://localhost:8080/"
        },
        "outputId": "a63f6ebc-9389-412c-c99b-14899f57a26c"
      },
      "execution_count": 7,
      "outputs": [
        {
          "output_type": "stream",
          "name": "stdout",
          "text": [
            "Found 3318 files belonging to 12 classes.\n",
            "Found 1102 files belonging to 12 classes.\n"
          ]
        }
      ]
    },
    {
      "cell_type": "code",
      "source": [
        "class_names = train_ds.class_names\n",
        "print(class_names)"
      ],
      "metadata": {
        "colab": {
          "base_uri": "https://localhost:8080/"
        },
        "id": "ZFgmRCEqml_r",
        "outputId": "68c812b3-c874-4162-85ce-9857bfc39e26"
      },
      "execution_count": 8,
      "outputs": [
        {
          "output_type": "stream",
          "name": "stdout",
          "text": [
            "['Black-grass', 'Charlock', 'Cleavers', 'Common Chickweed', 'Common wheat', 'Fat Hen', 'Loose Silky-bent', 'Maize', 'Scentless Mayweed', 'Shepherds Purse', 'Small-flowered Cranesbill', 'Sugar beet']\n"
          ]
        }
      ]
    },
    {
      "cell_type": "markdown",
      "source": [
        "Build model"
      ],
      "metadata": {
        "id": "eIkdYLzMtHW2"
      }
    },
    {
      "cell_type": "code",
      "source": [
        "# Preprocess images using MobileNetV2 presets\n",
        "# Includes rescaling (-1,1)\n",
        "preprocess_input = mobilenet_v2.preprocess_input\n",
        "\n",
        "# Augment data by flipping and rotating images\n",
        "data_augmentation = Sequential([\n",
        "  layers.RandomFlip('horizontal'),\n",
        "  layers.RandomRotation(0.2),\n",
        "])\n",
        "\n",
        "# Pool features into one dimension per image\n",
        "global_average_layer = layers.GlobalAveragePooling2D()\n",
        "\n",
        "# Add a prediction layer that matches the number of categories\n",
        "prediction_layer = layers.Dense(12, activation='softmax')"
      ],
      "metadata": {
        "id": "eeDeCsrFM_iF"
      },
      "execution_count": 9,
      "outputs": []
    },
    {
      "cell_type": "code",
      "source": [
        "# Employ transfer learning, specifically MobileNetV2\n",
        "base_model = MobileNetV2(\n",
        "    input_shape=(img_height, img_width, 3),\n",
        "    include_top=False,\n",
        "    weights='imagenet',\n",
        "    classes=12\n",
        ")\n",
        "# Allows training of MobileNetV2 weights\n",
        "base_model.trainable = False"
      ],
      "metadata": {
        "id": "w8AnXux2Nivr"
      },
      "execution_count": 17,
      "outputs": []
    },
    {
      "cell_type": "code",
      "source": [
        "# Combine the data augmentation, preprocessing, pooling, and prediction layers with MobileNetV2 base model\n",
        "inputs = Input(shape=(img_height, img_width, 3))\n",
        "X = data_augmentation(inputs)\n",
        "X = preprocess_input(X)\n",
        "X = base_model(X, training=False)\n",
        "X = global_average_layer(X)\n",
        "X = Dropout(0.4)(X)\n",
        "outputs = prediction_layer(X)\n",
        "model = Model(inputs, outputs)"
      ],
      "metadata": {
        "id": "03UjvLJ8RVcj"
      },
      "execution_count": 23,
      "outputs": []
    },
    {
      "cell_type": "code",
      "source": [
        "model.summary()"
      ],
      "metadata": {
        "colab": {
          "base_uri": "https://localhost:8080/"
        },
        "id": "-5EAv7L2UOSa",
        "outputId": "f855dece-bb8f-4ba4-d319-615aa1505647"
      },
      "execution_count": 24,
      "outputs": [
        {
          "output_type": "stream",
          "name": "stdout",
          "text": [
            "Model: \"model_4\"\n",
            "_________________________________________________________________\n",
            " Layer (type)                Output Shape              Param #   \n",
            "=================================================================\n",
            " input_8 (InputLayer)        [(None, 128, 128, 3)]     0         \n",
            "                                                                 \n",
            " sequential (Sequential)     (None, 128, 128, 3)       0         \n",
            "                                                                 \n",
            " tf.math.truediv_4 (TFOpLamb  (None, 128, 128, 3)      0         \n",
            " da)                                                             \n",
            "                                                                 \n",
            " tf.math.subtract_4 (TFOpLam  (None, 128, 128, 3)      0         \n",
            " bda)                                                            \n",
            "                                                                 \n",
            " mobilenetv2_1.00_128 (Funct  (None, 4, 4, 1280)       2257984   \n",
            " ional)                                                          \n",
            "                                                                 \n",
            " global_average_pooling2d (G  (None, 1280)             0         \n",
            " lobalAveragePooling2D)                                          \n",
            "                                                                 \n",
            " dropout_4 (Dropout)         (None, 1280)              0         \n",
            "                                                                 \n",
            " dense (Dense)               (None, 12)                15372     \n",
            "                                                                 \n",
            "=================================================================\n",
            "Total params: 2,273,356\n",
            "Trainable params: 15,372\n",
            "Non-trainable params: 2,257,984\n",
            "_________________________________________________________________\n"
          ]
        }
      ]
    },
    {
      "cell_type": "code",
      "source": [
        "optimizer = Adam(learning_rate=0.001)\n",
        "loss = losses.CategoricalCrossentropy(from_logits=True)\n",
        "model.compile(loss=loss,\n",
        "              optimizer=optimizer,\n",
        "              metrics=['accuracy'])"
      ],
      "metadata": {
        "id": "ghXO2W5YUde9"
      },
      "execution_count": 25,
      "outputs": []
    },
    {
      "cell_type": "code",
      "source": [
        "mc = ModelCheckpoint(filepath='/content/drive/MyDrive/Colab Notebooks/model.{epoch:02d}-{val_loss:.2f}.h5', \n",
        "                     monitor='val_loss', mode='min', save_best_only=True)\n",
        "history = model.fit(train_ds,\n",
        "          validation_data=val_ds,\n",
        "          epochs=100,\n",
        "          batch_size=64, \n",
        "          verbose=1,\n",
        "          callbacks=mc)"
      ],
      "metadata": {
        "colab": {
          "base_uri": "https://localhost:8080/"
        },
        "id": "ZkzHIPXjvHSP",
        "outputId": "08ae44a1-9f6e-443e-ca69-1167a79b662f"
      },
      "execution_count": 26,
      "outputs": [
        {
          "output_type": "stream",
          "name": "stdout",
          "text": [
            "Epoch 1/100\n"
          ]
        },
        {
          "output_type": "stream",
          "name": "stderr",
          "text": [
            "/usr/local/lib/python3.7/dist-packages/tensorflow/python/util/dispatch.py:1082: UserWarning: \"`categorical_crossentropy` received `from_logits=True`, but the `output` argument was produced by a sigmoid or softmax activation and thus does not represent logits. Was this intended?\"\n",
            "  return dispatch_target(*args, **kwargs)\n"
          ]
        },
        {
          "output_type": "stream",
          "name": "stdout",
          "text": [
            "104/104 [==============================] - 1011s 10s/step - loss: 1.8202 - accuracy: 0.4030 - val_loss: 1.1507 - val_accuracy: 0.6125\n",
            "Epoch 2/100\n",
            "104/104 [==============================] - 31s 279ms/step - loss: 1.2559 - accuracy: 0.5766 - val_loss: 0.9125 - val_accuracy: 0.6906\n",
            "Epoch 3/100\n",
            "104/104 [==============================] - 29s 260ms/step - loss: 1.0395 - accuracy: 0.6462 - val_loss: 0.8289 - val_accuracy: 0.7287\n",
            "Epoch 4/100\n",
            "104/104 [==============================] - 29s 260ms/step - loss: 0.9407 - accuracy: 0.6682 - val_loss: 0.7501 - val_accuracy: 0.7559\n",
            "Epoch 5/100\n",
            "104/104 [==============================] - 29s 266ms/step - loss: 0.8656 - accuracy: 0.7016 - val_loss: 0.7303 - val_accuracy: 0.7623\n",
            "Epoch 6/100\n",
            "104/104 [==============================] - 29s 261ms/step - loss: 0.8168 - accuracy: 0.7179 - val_loss: 0.7123 - val_accuracy: 0.7632\n",
            "Epoch 7/100\n",
            "104/104 [==============================] - 29s 266ms/step - loss: 0.7885 - accuracy: 0.7266 - val_loss: 0.6798 - val_accuracy: 0.7740\n",
            "Epoch 8/100\n",
            "104/104 [==============================] - 30s 268ms/step - loss: 0.7602 - accuracy: 0.7486 - val_loss: 0.6649 - val_accuracy: 0.7804\n",
            "Epoch 9/100\n",
            "104/104 [==============================] - 30s 268ms/step - loss: 0.7354 - accuracy: 0.7414 - val_loss: 0.6552 - val_accuracy: 0.7931\n",
            "Epoch 10/100\n",
            "104/104 [==============================] - 29s 265ms/step - loss: 0.7386 - accuracy: 0.7327 - val_loss: 0.6344 - val_accuracy: 0.7813\n",
            "Epoch 11/100\n",
            "104/104 [==============================] - 29s 262ms/step - loss: 0.6879 - accuracy: 0.7700 - val_loss: 0.6055 - val_accuracy: 0.8085\n",
            "Epoch 12/100\n",
            "104/104 [==============================] - 30s 267ms/step - loss: 0.6736 - accuracy: 0.7712 - val_loss: 0.6035 - val_accuracy: 0.8022\n",
            "Epoch 13/100\n",
            "104/104 [==============================] - 29s 267ms/step - loss: 0.6542 - accuracy: 0.7640 - val_loss: 0.5982 - val_accuracy: 0.8040\n",
            "Epoch 14/100\n",
            "104/104 [==============================] - 32s 291ms/step - loss: 0.6814 - accuracy: 0.7628 - val_loss: 0.5934 - val_accuracy: 0.8013\n",
            "Epoch 15/100\n",
            "104/104 [==============================] - 29s 260ms/step - loss: 0.6597 - accuracy: 0.7728 - val_loss: 0.5905 - val_accuracy: 0.8085\n",
            "Epoch 16/100\n",
            "104/104 [==============================] - 29s 264ms/step - loss: 0.6491 - accuracy: 0.7673 - val_loss: 0.5857 - val_accuracy: 0.8040\n",
            "Epoch 17/100\n",
            "104/104 [==============================] - 86s 818ms/step - loss: 0.6615 - accuracy: 0.7731 - val_loss: 0.5793 - val_accuracy: 0.8058\n",
            "Epoch 18/100\n",
            "104/104 [==============================] - 28s 255ms/step - loss: 0.6555 - accuracy: 0.7661 - val_loss: 0.5858 - val_accuracy: 0.8040\n",
            "Epoch 19/100\n",
            "104/104 [==============================] - 29s 258ms/step - loss: 0.6485 - accuracy: 0.7743 - val_loss: 0.5735 - val_accuracy: 0.8058\n",
            "Epoch 20/100\n",
            "104/104 [==============================] - 28s 255ms/step - loss: 0.6374 - accuracy: 0.7788 - val_loss: 0.5817 - val_accuracy: 0.8031\n",
            "Epoch 21/100\n",
            "104/104 [==============================] - 28s 255ms/step - loss: 0.6239 - accuracy: 0.7776 - val_loss: 0.5805 - val_accuracy: 0.8167\n",
            "Epoch 22/100\n",
            "104/104 [==============================] - 28s 255ms/step - loss: 0.6202 - accuracy: 0.7866 - val_loss: 0.5890 - val_accuracy: 0.8058\n",
            "Epoch 23/100\n",
            "104/104 [==============================] - 28s 255ms/step - loss: 0.6289 - accuracy: 0.7845 - val_loss: 0.5885 - val_accuracy: 0.8058\n",
            "Epoch 24/100\n",
            "104/104 [==============================] - 29s 258ms/step - loss: 0.6284 - accuracy: 0.7779 - val_loss: 0.5727 - val_accuracy: 0.8131\n",
            "Epoch 25/100\n",
            "104/104 [==============================] - 29s 261ms/step - loss: 0.6146 - accuracy: 0.7833 - val_loss: 0.5665 - val_accuracy: 0.8167\n",
            "Epoch 26/100\n",
            "104/104 [==============================] - 28s 255ms/step - loss: 0.5874 - accuracy: 0.7975 - val_loss: 0.5853 - val_accuracy: 0.7976\n",
            "Epoch 27/100\n",
            "104/104 [==============================] - 28s 256ms/step - loss: 0.6157 - accuracy: 0.7824 - val_loss: 0.5674 - val_accuracy: 0.8203\n",
            "Epoch 28/100\n",
            "104/104 [==============================] - 29s 258ms/step - loss: 0.6184 - accuracy: 0.7821 - val_loss: 0.5577 - val_accuracy: 0.8131\n",
            "Epoch 29/100\n",
            "104/104 [==============================] - 28s 257ms/step - loss: 0.5990 - accuracy: 0.7902 - val_loss: 0.5624 - val_accuracy: 0.8067\n",
            "Epoch 30/100\n",
            "104/104 [==============================] - 28s 255ms/step - loss: 0.5968 - accuracy: 0.7884 - val_loss: 0.5641 - val_accuracy: 0.7958\n",
            "Epoch 31/100\n",
            "104/104 [==============================] - 28s 256ms/step - loss: 0.6194 - accuracy: 0.7800 - val_loss: 0.5783 - val_accuracy: 0.8076\n",
            "Epoch 32/100\n",
            "104/104 [==============================] - 29s 260ms/step - loss: 0.6092 - accuracy: 0.7797 - val_loss: 0.5527 - val_accuracy: 0.8167\n",
            "Epoch 33/100\n",
            "104/104 [==============================] - 28s 256ms/step - loss: 0.5838 - accuracy: 0.7854 - val_loss: 0.5551 - val_accuracy: 0.8194\n",
            "Epoch 34/100\n",
            "104/104 [==============================] - 28s 257ms/step - loss: 0.5986 - accuracy: 0.7966 - val_loss: 0.5551 - val_accuracy: 0.8176\n",
            "Epoch 35/100\n",
            "104/104 [==============================] - 29s 259ms/step - loss: 0.6183 - accuracy: 0.7860 - val_loss: 0.5497 - val_accuracy: 0.8212\n",
            "Epoch 36/100\n",
            "104/104 [==============================] - 28s 256ms/step - loss: 0.6015 - accuracy: 0.7848 - val_loss: 0.5695 - val_accuracy: 0.8076\n",
            "Epoch 37/100\n",
            "104/104 [==============================] - 28s 255ms/step - loss: 0.5845 - accuracy: 0.7936 - val_loss: 0.5612 - val_accuracy: 0.8167\n",
            "Epoch 38/100\n",
            "104/104 [==============================] - 28s 255ms/step - loss: 0.5865 - accuracy: 0.7954 - val_loss: 0.5683 - val_accuracy: 0.8049\n",
            "Epoch 39/100\n",
            "104/104 [==============================] - 28s 256ms/step - loss: 0.5730 - accuracy: 0.7929 - val_loss: 0.5725 - val_accuracy: 0.8049\n",
            "Epoch 40/100\n",
            "104/104 [==============================] - 28s 256ms/step - loss: 0.6021 - accuracy: 0.7905 - val_loss: 0.5663 - val_accuracy: 0.8013\n",
            "Epoch 41/100\n",
            "104/104 [==============================] - 28s 257ms/step - loss: 0.6137 - accuracy: 0.7812 - val_loss: 0.5688 - val_accuracy: 0.8076\n",
            "Epoch 42/100\n",
            "104/104 [==============================] - 28s 256ms/step - loss: 0.5948 - accuracy: 0.7917 - val_loss: 0.5750 - val_accuracy: 0.8013\n",
            "Epoch 43/100\n",
            "104/104 [==============================] - 29s 257ms/step - loss: 0.6087 - accuracy: 0.7815 - val_loss: 0.5683 - val_accuracy: 0.8212\n",
            "Epoch 44/100\n",
            "104/104 [==============================] - 28s 255ms/step - loss: 0.5730 - accuracy: 0.7972 - val_loss: 0.5628 - val_accuracy: 0.8158\n",
            "Epoch 45/100\n",
            "104/104 [==============================] - 28s 256ms/step - loss: 0.5865 - accuracy: 0.7923 - val_loss: 0.5621 - val_accuracy: 0.8085\n",
            "Epoch 46/100\n",
            "104/104 [==============================] - 28s 255ms/step - loss: 0.5924 - accuracy: 0.7939 - val_loss: 0.5702 - val_accuracy: 0.8167\n",
            "Epoch 47/100\n",
            "104/104 [==============================] - 29s 257ms/step - loss: 0.5721 - accuracy: 0.7911 - val_loss: 0.5486 - val_accuracy: 0.8131\n",
            "Epoch 48/100\n",
            "104/104 [==============================] - 28s 256ms/step - loss: 0.6059 - accuracy: 0.7758 - val_loss: 0.5686 - val_accuracy: 0.8103\n",
            "Epoch 49/100\n",
            "104/104 [==============================] - 28s 255ms/step - loss: 0.5721 - accuracy: 0.7984 - val_loss: 0.5708 - val_accuracy: 0.8158\n",
            "Epoch 50/100\n",
            "104/104 [==============================] - 28s 255ms/step - loss: 0.5814 - accuracy: 0.7966 - val_loss: 0.5775 - val_accuracy: 0.8094\n",
            "Epoch 51/100\n",
            "104/104 [==============================] - 28s 256ms/step - loss: 0.5971 - accuracy: 0.7905 - val_loss: 0.5583 - val_accuracy: 0.8113\n",
            "Epoch 52/100\n",
            "104/104 [==============================] - 28s 256ms/step - loss: 0.5846 - accuracy: 0.7996 - val_loss: 0.5683 - val_accuracy: 0.8067\n",
            "Epoch 53/100\n",
            "104/104 [==============================] - 28s 253ms/step - loss: 0.5786 - accuracy: 0.7926 - val_loss: 0.5509 - val_accuracy: 0.8049\n",
            "Epoch 54/100\n",
            "104/104 [==============================] - 28s 255ms/step - loss: 0.5853 - accuracy: 0.7972 - val_loss: 0.5794 - val_accuracy: 0.8194\n",
            "Epoch 55/100\n",
            "104/104 [==============================] - 28s 257ms/step - loss: 0.5735 - accuracy: 0.7999 - val_loss: 0.5382 - val_accuracy: 0.8240\n",
            "Epoch 56/100\n",
            "104/104 [==============================] - 28s 254ms/step - loss: 0.5930 - accuracy: 0.7917 - val_loss: 0.5421 - val_accuracy: 0.8167\n",
            "Epoch 57/100\n",
            "104/104 [==============================] - 28s 254ms/step - loss: 0.5935 - accuracy: 0.7948 - val_loss: 0.5517 - val_accuracy: 0.8158\n",
            "Epoch 58/100\n",
            "104/104 [==============================] - 28s 255ms/step - loss: 0.5936 - accuracy: 0.7954 - val_loss: 0.5560 - val_accuracy: 0.8140\n",
            "Epoch 59/100\n",
            "104/104 [==============================] - 28s 255ms/step - loss: 0.5889 - accuracy: 0.7917 - val_loss: 0.5584 - val_accuracy: 0.8185\n",
            "Epoch 60/100\n",
            "104/104 [==============================] - 28s 256ms/step - loss: 0.5625 - accuracy: 0.7963 - val_loss: 0.5574 - val_accuracy: 0.8203\n",
            "Epoch 61/100\n",
            "104/104 [==============================] - 28s 255ms/step - loss: 0.5668 - accuracy: 0.7948 - val_loss: 0.5567 - val_accuracy: 0.8103\n",
            "Epoch 62/100\n",
            "104/104 [==============================] - 28s 255ms/step - loss: 0.5853 - accuracy: 0.7996 - val_loss: 0.5804 - val_accuracy: 0.8113\n",
            "Epoch 63/100\n",
            "104/104 [==============================] - 28s 255ms/step - loss: 0.6025 - accuracy: 0.7830 - val_loss: 0.5563 - val_accuracy: 0.8158\n",
            "Epoch 64/100\n",
            "104/104 [==============================] - 28s 255ms/step - loss: 0.5700 - accuracy: 0.7926 - val_loss: 0.5830 - val_accuracy: 0.7967\n",
            "Epoch 65/100\n",
            "104/104 [==============================] - 29s 257ms/step - loss: 0.6114 - accuracy: 0.7902 - val_loss: 0.5330 - val_accuracy: 0.8185\n",
            "Epoch 66/100\n",
            "104/104 [==============================] - 28s 255ms/step - loss: 0.5609 - accuracy: 0.7975 - val_loss: 0.5464 - val_accuracy: 0.8221\n",
            "Epoch 67/100\n",
            "104/104 [==============================] - 29s 259ms/step - loss: 0.5464 - accuracy: 0.8074 - val_loss: 0.5314 - val_accuracy: 0.8167\n",
            "Epoch 68/100\n",
            "104/104 [==============================] - 28s 255ms/step - loss: 0.5851 - accuracy: 0.7863 - val_loss: 0.5324 - val_accuracy: 0.8258\n",
            "Epoch 69/100\n",
            "104/104 [==============================] - 28s 255ms/step - loss: 0.5971 - accuracy: 0.7942 - val_loss: 0.5508 - val_accuracy: 0.8203\n",
            "Epoch 70/100\n",
            "104/104 [==============================] - 28s 255ms/step - loss: 0.5671 - accuracy: 0.7932 - val_loss: 0.5387 - val_accuracy: 0.8140\n",
            "Epoch 71/100\n",
            "104/104 [==============================] - 28s 254ms/step - loss: 0.5909 - accuracy: 0.7914 - val_loss: 0.5461 - val_accuracy: 0.8212\n",
            "Epoch 72/100\n",
            "104/104 [==============================] - 28s 257ms/step - loss: 0.5916 - accuracy: 0.7939 - val_loss: 0.5289 - val_accuracy: 0.8249\n",
            "Epoch 73/100\n",
            "104/104 [==============================] - 28s 254ms/step - loss: 0.6003 - accuracy: 0.7960 - val_loss: 0.5551 - val_accuracy: 0.8131\n",
            "Epoch 74/100\n",
            "104/104 [==============================] - 28s 254ms/step - loss: 0.5519 - accuracy: 0.8065 - val_loss: 0.5397 - val_accuracy: 0.8131\n",
            "Epoch 75/100\n",
            "104/104 [==============================] - 28s 255ms/step - loss: 0.5671 - accuracy: 0.8074 - val_loss: 0.5401 - val_accuracy: 0.8240\n",
            "Epoch 76/100\n",
            "104/104 [==============================] - 28s 255ms/step - loss: 0.5935 - accuracy: 0.7963 - val_loss: 0.5501 - val_accuracy: 0.8230\n",
            "Epoch 77/100\n",
            "104/104 [==============================] - 28s 255ms/step - loss: 0.5990 - accuracy: 0.7896 - val_loss: 0.5773 - val_accuracy: 0.8103\n",
            "Epoch 78/100\n",
            "104/104 [==============================] - 28s 256ms/step - loss: 0.5640 - accuracy: 0.8020 - val_loss: 0.5519 - val_accuracy: 0.8167\n",
            "Epoch 79/100\n",
            "104/104 [==============================] - 28s 254ms/step - loss: 0.5707 - accuracy: 0.7993 - val_loss: 0.5522 - val_accuracy: 0.8158\n",
            "Epoch 80/100\n",
            "104/104 [==============================] - 28s 255ms/step - loss: 0.5805 - accuracy: 0.7960 - val_loss: 0.5481 - val_accuracy: 0.8176\n",
            "Epoch 81/100\n",
            "104/104 [==============================] - 28s 254ms/step - loss: 0.5890 - accuracy: 0.7890 - val_loss: 0.5461 - val_accuracy: 0.8258\n",
            "Epoch 82/100\n",
            "104/104 [==============================] - 29s 258ms/step - loss: 0.5660 - accuracy: 0.8065 - val_loss: 0.5281 - val_accuracy: 0.8267\n",
            "Epoch 83/100\n",
            "104/104 [==============================] - 28s 256ms/step - loss: 0.5810 - accuracy: 0.8032 - val_loss: 0.5823 - val_accuracy: 0.8103\n",
            "Epoch 84/100\n",
            "104/104 [==============================] - 28s 257ms/step - loss: 0.5718 - accuracy: 0.7945 - val_loss: 0.5479 - val_accuracy: 0.8230\n",
            "Epoch 85/100\n",
            "104/104 [==============================] - 28s 256ms/step - loss: 0.5783 - accuracy: 0.7981 - val_loss: 0.5375 - val_accuracy: 0.8330\n",
            "Epoch 86/100\n",
            "104/104 [==============================] - 28s 257ms/step - loss: 0.5376 - accuracy: 0.8023 - val_loss: 0.5538 - val_accuracy: 0.8158\n",
            "Epoch 87/100\n",
            "104/104 [==============================] - 28s 256ms/step - loss: 0.5789 - accuracy: 0.8053 - val_loss: 0.5796 - val_accuracy: 0.8085\n",
            "Epoch 88/100\n",
            "104/104 [==============================] - 28s 255ms/step - loss: 0.5602 - accuracy: 0.8059 - val_loss: 0.5503 - val_accuracy: 0.8221\n",
            "Epoch 89/100\n",
            "104/104 [==============================] - 29s 259ms/step - loss: 0.5598 - accuracy: 0.7960 - val_loss: 0.5276 - val_accuracy: 0.8258\n",
            "Epoch 90/100\n",
            "104/104 [==============================] - 28s 256ms/step - loss: 0.5578 - accuracy: 0.8038 - val_loss: 0.5487 - val_accuracy: 0.8212\n",
            "Epoch 91/100\n",
            "104/104 [==============================] - 28s 255ms/step - loss: 0.5484 - accuracy: 0.8086 - val_loss: 0.5393 - val_accuracy: 0.8221\n",
            "Epoch 92/100\n",
            "104/104 [==============================] - 29s 257ms/step - loss: 0.5357 - accuracy: 0.8050 - val_loss: 0.5475 - val_accuracy: 0.8176\n",
            "Epoch 93/100\n",
            "104/104 [==============================] - 28s 256ms/step - loss: 0.5632 - accuracy: 0.8026 - val_loss: 0.5575 - val_accuracy: 0.8185\n",
            "Epoch 94/100\n",
            "104/104 [==============================] - 28s 256ms/step - loss: 0.5888 - accuracy: 0.7920 - val_loss: 0.5715 - val_accuracy: 0.8158\n",
            "Epoch 95/100\n",
            "104/104 [==============================] - 28s 255ms/step - loss: 0.5748 - accuracy: 0.7926 - val_loss: 0.5471 - val_accuracy: 0.8258\n",
            "Epoch 96/100\n",
            "104/104 [==============================] - 28s 256ms/step - loss: 0.5554 - accuracy: 0.8168 - val_loss: 0.5560 - val_accuracy: 0.8185\n",
            "Epoch 97/100\n",
            "104/104 [==============================] - 29s 259ms/step - loss: 0.5762 - accuracy: 0.8002 - val_loss: 0.5435 - val_accuracy: 0.8176\n",
            "Epoch 98/100\n",
            "104/104 [==============================] - 28s 255ms/step - loss: 0.5981 - accuracy: 0.7833 - val_loss: 0.5690 - val_accuracy: 0.8122\n",
            "Epoch 99/100\n",
            "104/104 [==============================] - 28s 255ms/step - loss: 0.5718 - accuracy: 0.7987 - val_loss: 0.5611 - val_accuracy: 0.8212\n",
            "Epoch 100/100\n",
            "104/104 [==============================] - 28s 256ms/step - loss: 0.5668 - accuracy: 0.7981 - val_loss: 0.5570 - val_accuracy: 0.8249\n"
          ]
        }
      ]
    },
    {
      "cell_type": "code",
      "source": [
        "# Load the best model from Model Checkpoint callback (to reduce overfitting)\n",
        "best_model = load_model('/content/drive/MyDrive/Colab Notebooks/model.89-0.53.h5')"
      ],
      "metadata": {
        "id": "hcsqHZCi82AB"
      },
      "execution_count": 27,
      "outputs": []
    },
    {
      "cell_type": "markdown",
      "source": [
        "Predict and evaluate model"
      ],
      "metadata": {
        "id": "2kNxvaNXKtaq"
      }
    },
    {
      "cell_type": "code",
      "source": [
        "test_dir = '/content/drive/MyDrive/Colab Notebooks/split_images/test'\n",
        "test_ds = image_dataset_from_directory(\n",
        "  test_dir,\n",
        "  seed=1,\n",
        "  image_size=(img_height, img_width),\n",
        "  batch_size=batch_size,\n",
        "  label_mode='categorical',\n",
        "  crop_to_aspect_ratio=True)"
      ],
      "metadata": {
        "colab": {
          "base_uri": "https://localhost:8080/"
        },
        "id": "GzM1XknsLA8E",
        "outputId": "e5cfc335-df93-4df9-ed59-40e5e7c35f6b"
      },
      "execution_count": 28,
      "outputs": [
        {
          "output_type": "stream",
          "name": "stdout",
          "text": [
            "Found 1119 files belonging to 12 classes.\n"
          ]
        }
      ]
    },
    {
      "cell_type": "code",
      "source": [
        "# Acheived 80% accuracy\n",
        "best_model.evaluate(test_ds)"
      ],
      "metadata": {
        "colab": {
          "base_uri": "https://localhost:8080/"
        },
        "id": "abjJ0E_eM0dC",
        "outputId": "183e665d-0f7f-432b-955f-e4370f9c9b80"
      },
      "execution_count": 29,
      "outputs": [
        {
          "output_type": "stream",
          "name": "stderr",
          "text": [
            "/usr/local/lib/python3.7/dist-packages/tensorflow/python/util/dispatch.py:1082: UserWarning: \"`categorical_crossentropy` received `from_logits=True`, but the `output` argument was produced by a sigmoid or softmax activation and thus does not represent logits. Was this intended?\"\n",
            "  return dispatch_target(*args, **kwargs)\n"
          ]
        },
        {
          "output_type": "stream",
          "name": "stdout",
          "text": [
            "35/35 [==============================] - 253s 5s/step - loss: 0.5440 - accuracy: 0.8025\n"
          ]
        },
        {
          "output_type": "execute_result",
          "data": {
            "text/plain": [
              "[0.5440319776535034, 0.8025022149085999]"
            ]
          },
          "metadata": {},
          "execution_count": 29
        }
      ]
    },
    {
      "cell_type": "code",
      "source": [
        "plt.plot(history.history['loss'], label='loss')\n",
        "plt.plot(history.history['val_loss'], label='val_loss')\n",
        "plt.legend()"
      ],
      "metadata": {
        "colab": {
          "base_uri": "https://localhost:8080/",
          "height": 282
        },
        "id": "P4FQNf4gLpYh",
        "outputId": "0e3b3a2b-f165-4557-9438-60b2a471cbd5"
      },
      "execution_count": 30,
      "outputs": [
        {
          "output_type": "execute_result",
          "data": {
            "text/plain": [
              "<matplotlib.legend.Legend at 0x7f912e86a4d0>"
            ]
          },
          "metadata": {},
          "execution_count": 30
        },
        {
          "output_type": "display_data",
          "data": {
            "image/png": "[encoded data removed]",
            "text/plain": [
              "<Figure size 432x288 with 1 Axes>"
            ]
          },
          "metadata": {
            "needs_background": "light"
          }
        }
      ]
    },
    {
      "cell_type": "code",
      "source": [
        "plt.plot(history.history['accuracy'], label='accuracy')\n",
        "plt.plot(history.history['val_accuracy'], label='val_accuracy')\n",
        "plt.legend()"
      ],
      "metadata": {
        "colab": {
          "base_uri": "https://localhost:8080/",
          "height": 282
        },
        "id": "yBH5_au4Ljm6",
        "outputId": "7f6a37c0-6690-4afc-da99-77b66370f349"
      },
      "execution_count": 31,
      "outputs": [
        {
          "output_type": "execute_result",
          "data": {
            "text/plain": [
              "<matplotlib.legend.Legend at 0x7f912e81f890>"
            ]
          },
          "metadata": {},
          "execution_count": 31
        },
        {
          "output_type": "display_data",
          "data": {
            "image/png": "[encoded data removed]",
            "text/plain": [
              "<Figure size 432x288 with 1 Axes>"
            ]
          },
          "metadata": {
            "needs_background": "light"
          }
        }
      ]
    },
    {
      "cell_type": "markdown",
      "source": [
        "Save and load model"
      ],
      "metadata": {
        "id": "gYMJEab086nO"
      }
    },
    {
      "cell_type": "code",
      "source": [
        "# From Elizabeth's Colab Notebook\n",
        "best_model.save('/content/drive/MyDrive/Colab Notebooks/seedling_model.h5')\n"
      ],
      "metadata": {
        "id": "Ap4wthUH2B0C"
      },
      "execution_count": 32,
      "outputs": []
    },
    {
      "cell_type": "code",
      "source": [
        "model_test = load_model('/content/drive/MyDrive/Colab Notebooks/seedling_model.h5')\n",
        "model_test.summary()"
      ],
      "metadata": {
        "id": "m1UyNM4t9AwM",
        "colab": {
          "base_uri": "https://localhost:8080/"
        },
        "outputId": "a677174e-ba85-463d-fa17-2413f32e475b"
      },
      "execution_count": 33,
      "outputs": [
        {
          "output_type": "stream",
          "name": "stdout",
          "text": [
            "Model: \"model_4\"\n",
            "_________________________________________________________________\n",
            " Layer (type)                Output Shape              Param #   \n",
            "=================================================================\n",
            " input_8 (InputLayer)        [(None, 128, 128, 3)]     0         \n",
            "                                                                 \n",
            " sequential (Sequential)     (None, 128, 128, 3)       0         \n",
            "                                                                 \n",
            " tf.math.truediv_4 (TFOpLamb  (None, 128, 128, 3)      0         \n",
            " da)                                                             \n",
            "                                                                 \n",
            " tf.math.subtract_4 (TFOpLam  (None, 128, 128, 3)      0         \n",
            " bda)                                                            \n",
            "                                                                 \n",
            " mobilenetv2_1.00_128 (Funct  (None, 4, 4, 1280)       2257984   \n",
            " ional)                                                          \n",
            "                                                                 \n",
            " global_average_pooling2d (G  (None, 1280)             0         \n",
            " lobalAveragePooling2D)                                          \n",
            "                                                                 \n",
            " dropout_4 (Dropout)         (None, 1280)              0         \n",
            "                                                                 \n",
            " dense (Dense)               (None, 12)                15372     \n",
            "                                                                 \n",
            "=================================================================\n",
            "Total params: 2,273,356\n",
            "Trainable params: 15,372\n",
            "Non-trainable params: 2,257,984\n",
            "_________________________________________________________________\n"
          ]
        }
      ]
    },
    {
      "cell_type": "code",
      "source": [
        ""
      ],
      "metadata": {
        "id": "-YucQ2aN9F41"
      },
      "execution_count": null,
      "outputs": []
    }
  ]
}