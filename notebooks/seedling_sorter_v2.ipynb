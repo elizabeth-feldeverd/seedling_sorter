{
  "nbformat": 4,
  "nbformat_minor": 0,
  "metadata": {
    "colab": {
      "name": "seedling_sorter_v2",
      "provenance": [],
      "collapsed_sections": []
    },
    "kernelspec": {
      "name": "python3",
      "display_name": "Python 3"
    },
    "language_info": {
      "name": "python"
    },
    "accelerator": "GPU"
  },
  "cells": [
    {
      "cell_type": "code",
      "metadata": {
        "colab": {
          "base_uri": "https://localhost:8080/"
        },
        "id": "WubWNvJFGcaP",
        "outputId": "03095995-1de4-4950-a210-763b809c36e1"
      },
      "source": [
        "from google.colab import drive\n",
        "drive.mount('/content/drive')"
      ],
      "execution_count": 1,
      "outputs": [
        {
          "output_type": "stream",
          "name": "stdout",
          "text": [
            "Mounted at /content/drive\n"
          ]
        }
      ]
    },
    {
      "cell_type": "code",
      "source": [
        "# Only need to run once\n",
        "# pip install split-folders tqdm\n",
        "# import splitfolders"
      ],
      "metadata": {
        "colab": {
          "base_uri": "https://localhost:8080/"
        },
        "id": "v__lwJtoBAjd",
        "outputId": "80b3a20f-6f6a-41c4-e427-5ccd5be5bdc0"
      },
      "execution_count": null,
      "outputs": [
        {
          "output_type": "stream",
          "name": "stdout",
          "text": [
            "Collecting split-folders\n",
            "  Downloading split_folders-0.4.3-py3-none-any.whl (7.4 kB)\n",
            "Requirement already satisfied: tqdm in /usr/local/lib/python3.7/dist-packages (4.62.3)\n",
            "Installing collected packages: split-folders\n",
            "Successfully installed split-folders-0.4.3\n"
          ]
        }
      ]
    },
    {
      "cell_type": "code",
      "metadata": {
        "id": "oWpgoha_GOEw"
      },
      "source": [
        "import numpy as np\n",
        "import pandas as pd\n",
        "import matplotlib.pyplot as plt\n",
        "from PIL import Image\n",
        "from pathlib import Path\n",
        "import os\n",
        "\n",
        "from tensorflow.keras.applications import MobileNetV2, mobilenet_v2\n",
        "from tensorflow.keras.optimizers import Adam\n",
        "from tensorflow.keras import Input, Sequential, layers, models, Model, losses\n",
        "from tensorflow.keras.layers import Rescaling, Dropout\n",
        "from tensorflow.keras.callbacks import ModelCheckpoint\n",
        "from keras.wrappers.scikit_learn import KerasClassifier\n",
        "from keras.models import load_model\n",
        "from keras.preprocessing.image import image_dataset_from_directory"
      ],
      "execution_count": 2,
      "outputs": []
    },
    {
      "cell_type": "markdown",
      "source": [
        "Load and preprocess images"
      ],
      "metadata": {
        "id": "yF8cOM5EtCV-"
      }
    },
    {
      "cell_type": "code",
      "source": [
        "# Split folders into train-validation-test. Only need to run once.\n",
        "splitfolders.ratio(\"/content/drive/MyDrive/Colab Notebooks/test_images\", \n",
        "                   output=\"/content/drive/MyDrive/Colab Notebooks/split_images\", \n",
        "                   seed=1, ratio=(.6, .2, .2), group_prefix=None)"
      ],
      "metadata": {
        "colab": {
          "base_uri": "https://localhost:8080/"
        },
        "id": "LAZvMp1ktGka",
        "outputId": "69bd3e7e-407f-4d41-a7e6-616d55fee80e"
      },
      "execution_count": null,
      "outputs": [
        {
          "output_type": "stream",
          "name": "stderr",
          "text": [
            "Copying files: 5539 files [02:55, 31.54 files/s]\n"
          ]
        }
      ]
    },
    {
      "cell_type": "code",
      "source": [
        "batch_size = 32\n",
        "img_height = 128\n",
        "img_width = 128"
      ],
      "metadata": {
        "id": "CCQ0EbHwmgLh"
      },
      "execution_count": 3,
      "outputs": []
    },
    {
      "cell_type": "code",
      "source": [
        "# Rather than load the entire 5000+ image dataset, we'll use tf.data.Dataset to generate training and validation sets\n",
        "train_dir = '/content/drive/MyDrive/Colab Notebooks/split_images/train'\n",
        "val_dir = '/content/drive/MyDrive/Colab Notebooks/split_images/val'\n",
        "\n",
        "train_ds = image_dataset_from_directory(\n",
        "  train_dir,\n",
        "  seed=2,\n",
        "  image_size=(img_height, img_width),\n",
        "  batch_size=batch_size,\n",
        "  label_mode='categorical',\n",
        "  crop_to_aspect_ratio=True)\n",
        "\n",
        "val_ds = image_dataset_from_directory(\n",
        "  val_dir,\n",
        "  seed=2,\n",
        "  image_size=(img_height, img_width),\n",
        "  batch_size=batch_size,\n",
        "  label_mode='categorical',\n",
        "  crop_to_aspect_ratio=True)"
      ],
      "metadata": {
        "id": "Nl4EXWzXkK4j",
        "colab": {
          "base_uri": "https://localhost:8080/"
        },
        "outputId": "e98ba8cd-3521-458e-a885-f2442745199b"
      },
      "execution_count": 4,
      "outputs": [
        {
          "output_type": "stream",
          "name": "stdout",
          "text": [
            "Found 3318 files belonging to 12 classes.\n",
            "Found 1102 files belonging to 12 classes.\n"
          ]
        }
      ]
    },
    {
      "cell_type": "code",
      "source": [
        "class_names = train_ds.class_names\n",
        "print(class_names)"
      ],
      "metadata": {
        "colab": {
          "base_uri": "https://localhost:8080/"
        },
        "id": "ZFgmRCEqml_r",
        "outputId": "de30a662-22d3-4083-a05a-5269d34cc1fc"
      },
      "execution_count": 5,
      "outputs": [
        {
          "output_type": "stream",
          "name": "stdout",
          "text": [
            "['Black-grass', 'Charlock', 'Cleavers', 'Common Chickweed', 'Common wheat', 'Fat Hen', 'Loose Silky-bent', 'Maize', 'Scentless Mayweed', 'Shepherds Purse', 'Small-flowered Cranesbill', 'Sugar beet']\n"
          ]
        }
      ]
    },
    {
      "cell_type": "markdown",
      "source": [
        "Build baseline model"
      ],
      "metadata": {
        "id": "eIkdYLzMtHW2"
      }
    },
    {
      "cell_type": "code",
      "source": [
        "# Preprocess images using MobileNetV2 presets\n",
        "preprocess_input = mobilenet_v2.preprocess_input"
      ],
      "metadata": {
        "id": "J5WBEtWoS97D"
      },
      "execution_count": 7,
      "outputs": []
    },
    {
      "cell_type": "code",
      "source": [
        "# Augment data by flipping and rotating images\n",
        "data_augmentation = Sequential([\n",
        "  layers.RandomFlip('horizontal'),\n",
        "  layers.RandomRotation(0.2),\n",
        "])\n",
        "\n",
        "# Pool features into one dimension per image\n",
        "global_average_layer = layers.GlobalAveragePooling2D()\n",
        "\n",
        "# Add a prediction layer that matches the number of categories\n",
        "prediction_layer = layers.Dense(12, activation='softmax')"
      ],
      "metadata": {
        "id": "eeDeCsrFM_iF"
      },
      "execution_count": 8,
      "outputs": []
    },
    {
      "cell_type": "code",
      "source": [
        "# Employ transfer learning, specifically MobileNetV2\n",
        "base_model = MobileNetV2(\n",
        "    input_shape=(img_height, img_width, 3),\n",
        "    include_top=False,\n",
        "    weights='imagenet',\n",
        "    classes=class_names\n",
        ")\n",
        "# Set to false to avoid overwriting the weights in MobileNetV2\n",
        "base_model.trainable = False"
      ],
      "metadata": {
        "colab": {
          "base_uri": "https://localhost:8080/"
        },
        "id": "w8AnXux2Nivr",
        "outputId": "cfc34119-db0a-4367-b29c-976da812af2e"
      },
      "execution_count": 9,
      "outputs": [
        {
          "output_type": "stream",
          "name": "stdout",
          "text": [
            "Downloading data from https://storage.googleapis.com/tensorflow/keras-applications/mobilenet_v2/mobilenet_v2_weights_tf_dim_ordering_tf_kernels_1.0_128_no_top.h5\n",
            "9412608/9406464 [==============================] - 0s 0us/step\n",
            "9420800/9406464 [==============================] - 0s 0us/step\n"
          ]
        }
      ]
    },
    {
      "cell_type": "code",
      "source": [
        "# Combine the data augmentation, preprocessing, pooling, and prediction layers with MobileNetV2 base model\n",
        "inputs = Input(shape=(img_height, img_width, 3))\n",
        "x = data_augmentation(inputs)\n",
        "x = preprocess_input(x)\n",
        "x = base_model(x, training=False)\n",
        "x = global_average_layer(x)\n",
        "x = Dropout(0.2)(x)\n",
        "outputs = prediction_layer(x)\n",
        "model = Model(inputs, outputs)"
      ],
      "metadata": {
        "id": "03UjvLJ8RVcj"
      },
      "execution_count": 10,
      "outputs": []
    },
    {
      "cell_type": "code",
      "source": [
        "model.summary()"
      ],
      "metadata": {
        "colab": {
          "base_uri": "https://localhost:8080/"
        },
        "id": "-5EAv7L2UOSa",
        "outputId": "3ca80057-3923-4a37-c220-8ead36368014"
      },
      "execution_count": 11,
      "outputs": [
        {
          "output_type": "stream",
          "name": "stdout",
          "text": [
            "Model: \"model\"\n",
            "_________________________________________________________________\n",
            " Layer (type)                Output Shape              Param #   \n",
            "=================================================================\n",
            " input_2 (InputLayer)        [(None, 128, 128, 3)]     0         \n",
            "                                                                 \n",
            " sequential (Sequential)     (None, 128, 128, 3)       0         \n",
            "                                                                 \n",
            " tf.math.truediv (TFOpLambda  (None, 128, 128, 3)      0         \n",
            " )                                                               \n",
            "                                                                 \n",
            " tf.math.subtract (TFOpLambd  (None, 128, 128, 3)      0         \n",
            " a)                                                              \n",
            "                                                                 \n",
            " mobilenetv2_1.00_128 (Funct  (None, 4, 4, 1280)       2257984   \n",
            " ional)                                                          \n",
            "                                                                 \n",
            " global_average_pooling2d (G  (None, 1280)             0         \n",
            " lobalAveragePooling2D)                                          \n",
            "                                                                 \n",
            " dropout (Dropout)           (None, 1280)              0         \n",
            "                                                                 \n",
            " dense (Dense)               (None, 12)                15372     \n",
            "                                                                 \n",
            "=================================================================\n",
            "Total params: 2,273,356\n",
            "Trainable params: 15,372\n",
            "Non-trainable params: 2,257,984\n",
            "_________________________________________________________________\n"
          ]
        }
      ]
    },
    {
      "cell_type": "code",
      "source": [
        "optimizer = Adam(learning_rate=0.001)\n",
        "loss = losses.CategoricalCrossentropy(from_logits=True)\n",
        "model.compile(loss=loss,\n",
        "              optimizer=optimizer,\n",
        "              metrics=['accuracy'])"
      ],
      "metadata": {
        "id": "ghXO2W5YUde9"
      },
      "execution_count": 13,
      "outputs": []
    },
    {
      "cell_type": "code",
      "source": [
        "mc = ModelCheckpoint(filepath='/content/drive/MyDrive/Colab Notebooks/model.{epoch:02d}-{val_loss:.2f}.h5', \n",
        "                     monitor='val_loss', mode='min', save_best_only=True)\n",
        "history = model.fit(train_ds,\n",
        "          validation_data=val_ds,\n",
        "          epochs=10,\n",
        "          batch_size=128, \n",
        "          verbose=1,\n",
        "          callbacks=mc)"
      ],
      "metadata": {
        "colab": {
          "base_uri": "https://localhost:8080/"
        },
        "id": "ZkzHIPXjvHSP",
        "outputId": "c0a3d9bf-d2a0-4e62-ab29-8b18af454a07"
      },
      "execution_count": 14,
      "outputs": [
        {
          "output_type": "stream",
          "name": "stdout",
          "text": [
            "Epoch 1/10\n"
          ]
        },
        {
          "output_type": "stream",
          "name": "stderr",
          "text": [
            "/usr/local/lib/python3.7/dist-packages/tensorflow/python/util/dispatch.py:1096: UserWarning: \"`categorical_crossentropy` received `from_logits=True`, but the `output` argument was produced by a sigmoid or softmax activation and thus does not represent logits. Was this intended?\"\n",
            "  return dispatch_target(*args, **kwargs)\n"
          ]
        },
        {
          "output_type": "stream",
          "name": "stdout",
          "text": [
            "104/104 [==============================] - ETA: 0s - loss: 1.7965 - accuracy: 0.4111"
          ]
        },
        {
          "output_type": "stream",
          "name": "stderr",
          "text": [
            "/usr/local/lib/python3.7/dist-packages/keras/engine/functional.py:1410: CustomMaskWarning: Custom mask layers require a config and must override get_config. When loading, the custom mask layer must be passed to the custom_objects argument.\n",
            "  layer_config = serialize_layer_fn(layer)\n"
          ]
        },
        {
          "output_type": "stream",
          "name": "stdout",
          "text": [
            "\b\b\b\b\b\b\b\b\b\b\b\b\b\b\b\b\b\b\b\b\b\b\b\b\b\b\b\b\b\b\b\b\b\b\b\b\b\b\b\b\b\b\b\b\b\b\b\b\b\b\b\b\b\b\b\b\b\b\b\b\b\b\b\b\b\b\b\b\b\b\b\b\b\b\b\b\b\b\b\b\b\b\b\b\r104/104 [==============================] - 655s 6s/step - loss: 1.7965 - accuracy: 0.4111 - val_loss: 1.1711 - val_accuracy: 0.6289\n",
            "Epoch 2/10\n",
            "104/104 [==============================] - 31s 280ms/step - loss: 1.1081 - accuracy: 0.6215 - val_loss: 0.9300 - val_accuracy: 0.7005\n",
            "Epoch 3/10\n",
            "104/104 [==============================] - 30s 269ms/step - loss: 0.9006 - accuracy: 0.6953 - val_loss: 0.8236 - val_accuracy: 0.7269\n",
            "Epoch 4/10\n",
            "104/104 [==============================] - 30s 276ms/step - loss: 0.8322 - accuracy: 0.7149 - val_loss: 0.7723 - val_accuracy: 0.7486\n",
            "Epoch 5/10\n",
            "104/104 [==============================] - 30s 268ms/step - loss: 0.7507 - accuracy: 0.7321 - val_loss: 0.7191 - val_accuracy: 0.7659\n",
            "Epoch 6/10\n",
            "104/104 [==============================] - 30s 276ms/step - loss: 0.6984 - accuracy: 0.7577 - val_loss: 0.6867 - val_accuracy: 0.7668\n",
            "Epoch 7/10\n",
            "104/104 [==============================] - 30s 274ms/step - loss: 0.6692 - accuracy: 0.7694 - val_loss: 0.6713 - val_accuracy: 0.7586\n",
            "Epoch 8/10\n",
            "104/104 [==============================] - 29s 267ms/step - loss: 0.6250 - accuracy: 0.7860 - val_loss: 0.6461 - val_accuracy: 0.7768\n",
            "Epoch 9/10\n",
            "104/104 [==============================] - 30s 275ms/step - loss: 0.6147 - accuracy: 0.7809 - val_loss: 0.6355 - val_accuracy: 0.7868\n",
            "Epoch 10/10\n",
            "104/104 [==============================] - 29s 266ms/step - loss: 0.5969 - accuracy: 0.7893 - val_loss: 0.6489 - val_accuracy: 0.7804\n"
          ]
        }
      ]
    },
    {
      "cell_type": "code",
      "source": [
        "# Load the best model from Model Checkpoint callback (to reduce overfitting)\n",
        "best_model = load_model('/content/drive/MyDrive/Colab Notebooks/model.09-0.64.h5')"
      ],
      "metadata": {
        "id": "hcsqHZCi82AB"
      },
      "execution_count": 15,
      "outputs": []
    },
    {
      "cell_type": "markdown",
      "source": [
        "Predict and evaluate model"
      ],
      "metadata": {
        "id": "2kNxvaNXKtaq"
      }
    },
    {
      "cell_type": "code",
      "source": [
        "test_dir = '/content/drive/MyDrive/Colab Notebooks/split_images/test'\n",
        "test_ds = image_dataset_from_directory(\n",
        "  test_dir,\n",
        "  seed=1,\n",
        "  image_size=(img_height, img_width),\n",
        "  batch_size=batch_size,\n",
        "  label_mode='categorical',\n",
        "  crop_to_aspect_ratio=True)"
      ],
      "metadata": {
        "colab": {
          "base_uri": "https://localhost:8080/"
        },
        "id": "GzM1XknsLA8E",
        "outputId": "e8943640-bece-42bf-c57e-1078282e496f"
      },
      "execution_count": 16,
      "outputs": [
        {
          "output_type": "stream",
          "name": "stdout",
          "text": [
            "Found 1119 files belonging to 12 classes.\n"
          ]
        }
      ]
    },
    {
      "cell_type": "code",
      "source": [
        "# Acheived 79% accuracy\n",
        "best_model.evaluate(test_ds)"
      ],
      "metadata": {
        "colab": {
          "base_uri": "https://localhost:8080/"
        },
        "id": "abjJ0E_eM0dC",
        "outputId": "7f447002-7198-4826-99d3-0fd654d7e416"
      },
      "execution_count": 17,
      "outputs": [
        {
          "output_type": "stream",
          "name": "stderr",
          "text": [
            "/usr/local/lib/python3.7/dist-packages/tensorflow/python/util/dispatch.py:1096: UserWarning: \"`categorical_crossentropy` received `from_logits=True`, but the `output` argument was produced by a sigmoid or softmax activation and thus does not represent logits. Was this intended?\"\n",
            "  return dispatch_target(*args, **kwargs)\n"
          ]
        },
        {
          "output_type": "stream",
          "name": "stdout",
          "text": [
            "35/35 [==============================] - 166s 4s/step - loss: 0.6103 - accuracy: 0.7882\n"
          ]
        },
        {
          "output_type": "execute_result",
          "data": {
            "text/plain": [
              "[0.6102786660194397, 0.788203775882721]"
            ]
          },
          "metadata": {},
          "execution_count": 17
        }
      ]
    },
    {
      "cell_type": "code",
      "source": [
        "plt.plot(history.history['loss'], label='loss')\n",
        "plt.plot(history.history['val_loss'], label='val_loss')\n",
        "plt.legend()"
      ],
      "metadata": {
        "colab": {
          "base_uri": "https://localhost:8080/",
          "height": 282
        },
        "id": "P4FQNf4gLpYh",
        "outputId": "03069a23-dc3a-43db-e82a-43e5d9636928"
      },
      "execution_count": 18,
      "outputs": [
        {
          "output_type": "execute_result",
          "data": {
            "text/plain": [
              "<matplotlib.legend.Legend at 0x7fe7d66ff050>"
            ]
          },
          "metadata": {},
          "execution_count": 18
        },
        {
          "output_type": "display_data",
          "data": {
            "image/png": "[encoded data removed]",
            "text/plain": [
              "<Figure size 432x288 with 1 Axes>"
            ]
          },
          "metadata": {
            "needs_background": "light"
          }
        }
      ]
    },
    {
      "cell_type": "code",
      "source": [
        "plt.plot(history.history['accuracy'], label='accuracy')\n",
        "plt.plot(history.history['val_accuracy'], label='val_accuracy')\n",
        "plt.legend()"
      ],
      "metadata": {
        "colab": {
          "base_uri": "https://localhost:8080/",
          "height": 282
        },
        "id": "yBH5_au4Ljm6",
        "outputId": "3b5c1359-bbfb-4786-9801-88958b2f43c1"
      },
      "execution_count": 19,
      "outputs": [
        {
          "output_type": "execute_result",
          "data": {
            "text/plain": [
              "<matplotlib.legend.Legend at 0x7fe7d6497850>"
            ]
          },
          "metadata": {},
          "execution_count": 19
        },
        {
          "output_type": "display_data",
          "data": {
            "image/png": "[encoded data removed]",
            "text/plain": [
              "<Figure size 432x288 with 1 Axes>"
            ]
          },
          "metadata": {
            "needs_background": "light"
          }
        }
      ]
    },
    {
      "cell_type": "markdown",
      "source": [
        "Save and load model"
      ],
      "metadata": {
        "id": "gYMJEab086nO"
      }
    },
    {
      "cell_type": "code",
      "source": [
        "# From Elizabeth's Colab Notebook\n",
        "model.save('/content/drive/MyDrive/Colab Notebooks/seedling_model1.h5')\n"
      ],
      "metadata": {
        "id": "Ap4wthUH2B0C"
      },
      "execution_count": null,
      "outputs": []
    },
    {
      "cell_type": "code",
      "source": [
        "model_test = load_model('/content/drive/MyDrive/Colab Notebooks/seedling_model1.h5')\n",
        "model_test.summary()"
      ],
      "metadata": {
        "id": "m1UyNM4t9AwM"
      },
      "execution_count": null,
      "outputs": []
    },
    {
      "cell_type": "code",
      "source": [
        ""
      ],
      "metadata": {
        "id": "-YucQ2aN9F41"
      },
      "execution_count": null,
      "outputs": []
    }
  ]
}